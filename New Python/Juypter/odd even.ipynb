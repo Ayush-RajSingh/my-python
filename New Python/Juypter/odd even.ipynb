{
 "cells": [
  {
   "cell_type": "code",
   "execution_count": 1,
   "metadata": {},
   "outputs": [
    {
     "name": "stdout",
     "output_type": "stream",
     "text": [
      "['even', 'odd', 'even', 'odd', 'even', 'odd', 'even', 'odd', 'even', 'odd']\n",
      "[0, 2, 4, 6, 8]\n",
      "{0: 'even', 1: 'odd', 2: 'even', 3: 'odd', 4: 'even', 5: 'odd', 6: 'even', 7: 'odd', 8: 'even', 9: 'odd'}\n",
      "[0, 2, 4, 6, 8, 10, 12, 14, 16, 18]\n",
      "[1, 3, 5, 7, 9, 11, 13, 15, 17, 19]\n"
     ]
    }
   ],
   "source": [
    "print([(\"even\" if x%2 == 0 else \"odd\") for x in range(10)])\n",
    "\n",
    "\n",
    "print([x for x in range(10) if x%2 ==0])\n",
    "\n",
    "\n",
    "di = {x:(\"even\" if x%2 == 0 else \"odd\") for x in range(10)}\n",
    "print(di)\n",
    "\n",
    "\n",
    "li = list(range(20))\n",
    "print(list(filter(lambda x: x%2 == 0,li)))\n",
    "print(list(filter(lambda x: x%2 == 1,li)))\n"
   ]
  }
 ],
 "metadata": {
  "kernelspec": {
   "display_name": "Python 3.10.8 64-bit (microsoft store)",
   "language": "python",
   "name": "python3"
  },
  "language_info": {
   "codemirror_mode": {
    "name": "ipython",
    "version": 3
   },
   "file_extension": ".py",
   "mimetype": "text/x-python",
   "name": "python",
   "nbconvert_exporter": "python",
   "pygments_lexer": "ipython3",
   "version": "3.10.8"
  },
  "orig_nbformat": 4,
  "vscode": {
   "interpreter": {
    "hash": "4ca10adfe85220946398048476f1d5061d0d65ebac3d3c8f02e4c43c606bfb1f"
   }
  }
 },
 "nbformat": 4,
 "nbformat_minor": 2
}
