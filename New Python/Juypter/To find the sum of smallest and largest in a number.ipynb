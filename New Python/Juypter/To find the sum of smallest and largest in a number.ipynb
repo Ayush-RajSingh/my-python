{
 "cells": [
  {
   "cell_type": "markdown",
   "metadata": {},
   "source": [
    "# To find the sum of smallest and largest in a number"
   ]
  },
  {
   "cell_type": "code",
   "execution_count": 1,
   "metadata": {},
   "outputs": [],
   "source": [
    "num = int(input(\"Enter any number \")) #1465 "
   ]
  },
  {
   "cell_type": "code",
   "execution_count": 2,
   "metadata": {},
   "outputs": [],
   "source": [
    "\n",
    "small = 10\n",
    "large = 0\n"
   ]
  },
  {
   "cell_type": "code",
   "execution_count": 3,
   "metadata": {},
   "outputs": [
    {
     "name": "stdout",
     "output_type": "stream",
     "text": [
      "sum is  7\n"
     ]
    }
   ],
   "source": [
    "while(num > 0):            #1\n",
    "    rem = num % 10         #1 % 10 = 1\n",
    "    if(rem > large):       \n",
    "        large = rem       #large = 6\n",
    "    if(rem < small):     \n",
    "        small = rem      #small = 1\n",
    "    \n",
    "    num = num // 10      #1 // 10 = 0\n",
    "\n",
    "sum = large + small\n",
    "print(\"sum is \", sum)"
   ]
  }
 ],
 "metadata": {
  "kernelspec": {
   "display_name": "Python 3.10.8 64-bit (microsoft store)",
   "language": "python",
   "name": "python3"
  },
  "language_info": {
   "codemirror_mode": {
    "name": "ipython",
    "version": 3
   },
   "file_extension": ".py",
   "mimetype": "text/x-python",
   "name": "python",
   "nbconvert_exporter": "python",
   "pygments_lexer": "ipython3",
   "version": "3.10.8"
  },
  "orig_nbformat": 4,
  "vscode": {
   "interpreter": {
    "hash": "4ca10adfe85220946398048476f1d5061d0d65ebac3d3c8f02e4c43c606bfb1f"
   }
  }
 },
 "nbformat": 4,
 "nbformat_minor": 2
}
